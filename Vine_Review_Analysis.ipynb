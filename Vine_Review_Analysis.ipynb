{
  "nbformat": 4,
  "nbformat_minor": 0,
  "metadata": {
    "colab": {
      "name": "Vine_Review_Analysis.ipynb",
      "provenance": [],
      "collapsed_sections": [],
      "authorship_tag": "ABX9TyOcGW5FWPy8K51fMM8jnD+X",
      "include_colab_link": true
    },
    "kernelspec": {
      "name": "python3",
      "display_name": "Python 3"
    },
    "language_info": {
      "name": "python"
    }
  },
  "cells": [
    {
      "cell_type": "markdown",
      "metadata": {
        "id": "view-in-github",
        "colab_type": "text"
      },
      "source": [
        "<a href=\"https://colab.research.google.com/github/Jtranod98/Amazon_Vine_Analysis/blob/main/Vine_Review_Analysis.ipynb\" target=\"_parent\"><img src=\"https://colab.research.google.com/assets/colab-badge.svg\" alt=\"Open In Colab\"/></a>"
      ]
    },
    {
      "cell_type": "code",
      "execution_count": null,
      "metadata": {
        "colab": {
          "base_uri": "https://localhost:8080/"
        },
        "id": "28swaMhmxDQO",
        "outputId": "a0c7a627-4bf4-4333-d2bc-b6c5e63faff7"
      },
      "outputs": [
        {
          "output_type": "stream",
          "name": "stdout",
          "text": [
            "\r0% [Working]\r            \rGet:1 https://developer.download.nvidia.com/compute/cuda/repos/ubuntu1804/x86_64  InRelease [1,581 B]\n",
            "Get:2 https://cloud.r-project.org/bin/linux/ubuntu bionic-cran40/ InRelease [3,626 B]\n",
            "Get:3 http://ppa.launchpad.net/c2d4u.team/c2d4u4.0+/ubuntu bionic InRelease [15.9 kB]\n",
            "Get:4 http://security.ubuntu.com/ubuntu bionic-security InRelease [88.7 kB]\n",
            "Ign:5 https://developer.download.nvidia.com/compute/machine-learning/repos/ubuntu1804/x86_64  InRelease\n",
            "Hit:6 https://developer.download.nvidia.com/compute/machine-learning/repos/ubuntu1804/x86_64  Release\n",
            "Hit:7 http://archive.ubuntu.com/ubuntu bionic InRelease\n",
            "Get:8 https://developer.download.nvidia.com/compute/cuda/repos/ubuntu1804/x86_64  Packages [817 kB]\n",
            "Get:9 http://archive.ubuntu.com/ubuntu bionic-updates InRelease [88.7 kB]\n",
            "Hit:10 http://ppa.launchpad.net/cran/libgit2/ubuntu bionic InRelease\n",
            "Get:11 https://cloud.r-project.org/bin/linux/ubuntu bionic-cran40/ Packages [85.6 kB]\n",
            "Hit:12 http://ppa.launchpad.net/deadsnakes/ppa/ubuntu bionic InRelease\n",
            "Get:13 http://archive.ubuntu.com/ubuntu bionic-backports InRelease [74.6 kB]\n",
            "Hit:15 http://ppa.launchpad.net/graphics-drivers/ppa/ubuntu bionic InRelease\n",
            "Get:16 http://ppa.launchpad.net/c2d4u.team/c2d4u4.0+/ubuntu bionic/main Sources [2,075 kB]\n",
            "Get:17 http://security.ubuntu.com/ubuntu bionic-security/main amd64 Packages [2,901 kB]\n",
            "Get:18 http://archive.ubuntu.com/ubuntu bionic-updates/universe amd64 Packages [2,304 kB]\n",
            "Get:19 http://ppa.launchpad.net/c2d4u.team/c2d4u4.0+/ubuntu bionic/main amd64 Packages [1,063 kB]\n",
            "Get:20 http://security.ubuntu.com/ubuntu bionic-security/restricted amd64 Packages [1,063 kB]\n",
            "Get:21 http://security.ubuntu.com/ubuntu bionic-security/universe amd64 Packages [1,527 kB]\n",
            "Get:22 http://archive.ubuntu.com/ubuntu bionic-updates/restricted amd64 Packages [1,105 kB]\n",
            "Get:23 http://archive.ubuntu.com/ubuntu bionic-updates/main amd64 Packages [3,333 kB]\n",
            "Fetched 16.5 MB in 5s (3,649 kB/s)\n",
            "Reading package lists... Done\n"
          ]
        }
      ],
      "source": [
        "import os\n",
        "# Find the latest version of spark 3.0 from http://www.apache.org/dist/spark/ and enter as the spark version\n",
        "# For example:\n",
        "# spark_version = 'spark-3.0.3'\n",
        "spark_version = 'spark-3.0.3'\n",
        "os.environ['SPARK_VERSION']=spark_version\n",
        "\n",
        "# Install Spark and Java\n",
        "!apt-get update\n",
        "!apt-get install openjdk-11-jdk-headless -qq > /dev/null\n",
        "!wget -q http://www.apache.org/dist/spark/$SPARK_VERSION/$SPARK_VERSION-bin-hadoop2.7.tgz\n",
        "!tar xf $SPARK_VERSION-bin-hadoop2.7.tgz\n",
        "!pip install -q findspark\n",
        "\n",
        "# Set Environment Variables\n",
        "import os\n",
        "os.environ[\"JAVA_HOME\"] = \"/usr/lib/jvm/java-11-openjdk-amd64\"\n",
        "os.environ[\"SPARK_HOME\"] = f\"/content/{spark_version}-bin-hadoop2.7\"\n",
        "\n",
        "# Start a SparkSession\n",
        "import findspark\n",
        "findspark.init()"
      ]
    },
    {
      "cell_type": "code",
      "source": [
        "from pyspark.sql import SparkSession\n",
        "spark = SparkSession.builder.appName(\"M16-Amazon-Challenge\").config(\"spark.driver.extraClassPath\",\"/content/postgresql-42.2.16.jar\").getOrCreate()"
      ],
      "metadata": {
        "id": "GDpPnmNHxTW7"
      },
      "execution_count": null,
      "outputs": []
    },
    {
      "cell_type": "code",
      "source": [
        "#Load Amazon Data inot Spark DataFrame\n",
        "from pyspark import SparkFiles\n",
        "url = \"https://s3.amazonaws.com/amazon-reviews-pds/tsv/amazon_reviews_us_Wireless_v1_00.tsv.gz\"\n",
        "spark.sparkContext.addFile(url)\n",
        "df = spark.read.option(\"encoding\", \"UTF-8\").csv(SparkFiles.get(\"\"), sep=\"\\t\", header=True, inferSchema=True)\n"
      ],
      "metadata": {
        "id": "A7kC41FJxfrV"
      },
      "execution_count": null,
      "outputs": []
    },
    {
      "cell_type": "code",
      "source": [
        "# Create the vine_table. DataFrame\n",
        "vine_df = df.select([\"star_rating\", \"helpful_votes\", \"total_votes\", \"vine\", \"verified_purchase\"])\n",
        "vine_df.show()"
      ],
      "metadata": {
        "colab": {
          "base_uri": "https://localhost:8080/"
        },
        "id": "rqqKXPqhxrq5",
        "outputId": "87a8cbf0-b699-41c4-b049-86157bd965f3"
      },
      "execution_count": null,
      "outputs": [
        {
          "output_type": "stream",
          "name": "stdout",
          "text": [
            "+-----------+-------------+-----------+----+-----------------+\n",
            "|star_rating|helpful_votes|total_votes|vine|verified_purchase|\n",
            "+-----------+-------------+-----------+----+-----------------+\n",
            "|          2|            1|          3|   N|                Y|\n",
            "|          4|            0|          0|   N|                N|\n",
            "|          5|            0|          0|   N|                Y|\n",
            "|          5|            0|          0|   N|                Y|\n",
            "|          5|            0|          0|   N|                Y|\n",
            "|          5|            0|          0|   N|                Y|\n",
            "|          4|            0|          0|   N|                Y|\n",
            "|          5|            0|          0|   N|                Y|\n",
            "|          5|            0|          0|   N|                Y|\n",
            "|          3|            0|          0|   N|                Y|\n",
            "|          5|            0|          0|   N|                Y|\n",
            "|          5|            0|          0|   N|                Y|\n",
            "|          5|            0|          0|   N|                Y|\n",
            "|          1|            0|          0|   N|                Y|\n",
            "|          5|            0|          0|   N|                Y|\n",
            "|          1|            0|          0|   N|                Y|\n",
            "|          5|            0|          0|   N|                Y|\n",
            "|          5|            0|          0|   N|                N|\n",
            "|          5|            0|          0|   N|                Y|\n",
            "|          5|            0|          0|   N|                Y|\n",
            "+-----------+-------------+-----------+----+-----------------+\n",
            "only showing top 20 rows\n",
            "\n"
          ]
        }
      ]
    },
    {
      "cell_type": "code",
      "source": [
        "# Retrieve all rows where total votes count is equal to or greater than 20\n",
        "from pyspark.sql.functions import col,avg\n",
        "tot_votes_df = vine_df.filter(col(\"total_votes\")>=20)\n",
        "tot_votes_df.show()"
      ],
      "metadata": {
        "colab": {
          "base_uri": "https://localhost:8080/"
        },
        "id": "_cfT001ax8Dt",
        "outputId": "cea8755c-665d-4eb5-aa6b-0c15d8bdcffe"
      },
      "execution_count": null,
      "outputs": [
        {
          "output_type": "stream",
          "name": "stdout",
          "text": [
            "+-----------+-------------+-----------+----+-----------------+\n",
            "|star_rating|helpful_votes|total_votes|vine|verified_purchase|\n",
            "+-----------+-------------+-----------+----+-----------------+\n",
            "|          3|           54|         59|   N|                Y|\n",
            "|          5|           15|         21|   N|                Y|\n",
            "|          4|           20|         21|   N|                Y|\n",
            "|          2|           28|         44|   N|                Y|\n",
            "|          4|           45|         47|   N|                Y|\n",
            "|          4|           98|        104|   N|                Y|\n",
            "|          5|           26|         39|   N|                Y|\n",
            "|          5|           53|         59|   N|                Y|\n",
            "|          5|           69|         77|   N|                N|\n",
            "|          2|           24|         25|   N|                Y|\n",
            "|          2|          103|        108|   N|                Y|\n",
            "|          3|            4|         22|   N|                Y|\n",
            "|          5|           57|         58|   N|                Y|\n",
            "|          2|           26|         30|   N|                Y|\n",
            "|          5|          168|        176|   N|                Y|\n",
            "|          5|           36|         37|   N|                Y|\n",
            "|          5|           74|         90|   N|                N|\n",
            "|          1|           22|         22|   N|                Y|\n",
            "|          1|           18|         22|   N|                Y|\n",
            "|          4|           33|         37|   N|                Y|\n",
            "+-----------+-------------+-----------+----+-----------------+\n",
            "only showing top 20 rows\n",
            "\n"
          ]
        }
      ]
    },
    {
      "cell_type": "code",
      "source": [
        "# Retrieve all rows where the number of helpful votes divided by total votes is equal to or greater than 50%\n",
        "helpful_df = vine_df.filter(col(\"helpful_votes\") /col(\"total_votes\") >= 0.5)\n",
        "helpful_df.show()"
      ],
      "metadata": {
        "colab": {
          "base_uri": "https://localhost:8080/"
        },
        "id": "U2I4Pvoby6ro",
        "outputId": "5770a0e8-ce1d-419b-db6b-cb7da73665e4"
      },
      "execution_count": null,
      "outputs": [
        {
          "output_type": "stream",
          "name": "stdout",
          "text": [
            "+-----------+-------------+-----------+----+-----------------+\n",
            "|star_rating|helpful_votes|total_votes|vine|verified_purchase|\n",
            "+-----------+-------------+-----------+----+-----------------+\n",
            "|          1|            1|          1|   N|                Y|\n",
            "|          5|            1|          1|   N|                Y|\n",
            "|          5|            2|          2|   N|                Y|\n",
            "|          5|           17|         18|   N|                N|\n",
            "|          5|            1|          1|   N|                Y|\n",
            "|          1|            1|          2|   N|                Y|\n",
            "|          3|            2|          2|   N|                Y|\n",
            "|          5|            1|          1|   N|                N|\n",
            "|          5|            1|          1|   N|                Y|\n",
            "|          5|            7|          7|   N|                Y|\n",
            "|          5|            1|          1|   N|                Y|\n",
            "|          5|            1|          1|   N|                Y|\n",
            "|          3|           54|         59|   N|                Y|\n",
            "|          5|            4|          6|   N|                Y|\n",
            "|          1|            4|          4|   N|                Y|\n",
            "|          3|            3|          4|   N|                Y|\n",
            "|          5|            2|          4|   N|                Y|\n",
            "|          5|            1|          1|   N|                Y|\n",
            "|          1|            3|          4|   N|                Y|\n",
            "|          1|            4|          7|   N|                Y|\n",
            "+-----------+-------------+-----------+----+-----------------+\n",
            "only showing top 20 rows\n",
            "\n"
          ]
        }
      ]
    },
    {
      "cell_type": "code",
      "source": [
        "# Retrieves all the rows where a review was written as part of the Vine program (paid)\n",
        "paid_df = helpful_df.filter(col(\"vine\") =='Y') \n",
        "paid_df.describe().show()"
      ],
      "metadata": {
        "colab": {
          "base_uri": "https://localhost:8080/"
        },
        "id": "18KN14A98wpY",
        "outputId": "a6368b2f-282e-446d-ce67-a5d73c49d19d"
      },
      "execution_count": null,
      "outputs": [
        {
          "output_type": "stream",
          "name": "stdout",
          "text": [
            "+-------+------------------+------------------+------------------+----+-----------------+\n",
            "|summary|       star_rating|     helpful_votes|       total_votes|vine|verified_purchase|\n",
            "+-------+------------------+------------------+------------------+----+-----------------+\n",
            "|  count|              7598|              7598|              7598|7598|             7598|\n",
            "|   mean| 3.977362463806265|10.012503290339563|11.355883127138721|null|             null|\n",
            "| stddev|1.0477670361209401| 48.27650577555295| 50.78547915484564|null|             null|\n",
            "|    min|                 1|                 1|                 1|   Y|                N|\n",
            "|    max|                 5|              1735|              1795|   Y|                Y|\n",
            "+-------+------------------+------------------+------------------+----+-----------------+\n",
            "\n"
          ]
        }
      ]
    },
    {
      "cell_type": "code",
      "source": [
        "# Retrieve all the rows where the review was not part of the Vine program (unpaid)\n",
        "unpaid_df = helpful_df.filter(col(\"vine\")=='N')\n",
        "unpaid_df.describe().show()"
      ],
      "metadata": {
        "id": "o9kItKt99KJ7",
        "colab": {
          "base_uri": "https://localhost:8080/"
        },
        "outputId": "3de9fa10-a266-4dd3-bb37-52267ef2e6c9"
      },
      "execution_count": null,
      "outputs": [
        {
          "output_type": "stream",
          "name": "stdout",
          "text": [
            "+-------+------------------+-----------------+------------------+-------+-----------------+\n",
            "|summary|       star_rating|    helpful_votes|       total_votes|   vine|verified_purchase|\n",
            "+-------+------------------+-----------------+------------------+-------+-----------------+\n",
            "|  count|           1760004|          1760004|           1760004|1760004|          1760004|\n",
            "|   mean| 3.716870529839705|4.406076349826478| 5.026000509089752|   null|             null|\n",
            "| stddev|1.5616846454952216|24.40815888626722|25.943987522940585|   null|             null|\n",
            "|    min|                 1|                1|                 1|      N|                N|\n",
            "|    max|                 5|             5854|              6063|      N|                Y|\n",
            "+-------+------------------+-----------------+------------------+-------+-----------------+\n",
            "\n"
          ]
        }
      ]
    },
    {
      "cell_type": "code",
      "source": [
        "# Determine the total number of reviews, the number of 5-star reviews, \n",
        "# and the percentage of 5-star reviews for the review (paid).\n",
        "total_paid_review = paid_df.count()\n",
        "numb_paid_five_star = paid_df.filter(col(\"star_rating\")=='5').count()\n",
        "percent_paid_five_star = numb_paid_five_star / total_paid_review * 100\n",
        "\n",
        "print(\"Total number of reviews: \",total_paid_review)\n",
        "print(\"Number of 5-star reviews: \",numb_paid_five_star)\n",
        "print(\"Percentage of 5-star reviews: \",percent_paid_five_star)\n"
      ],
      "metadata": {
        "id": "16lwnSV09fSB",
        "colab": {
          "base_uri": "https://localhost:8080/"
        },
        "outputId": "77fb600e-7750-45e9-b662-27eca03e0aa3"
      },
      "execution_count": null,
      "outputs": [
        {
          "output_type": "stream",
          "name": "stdout",
          "text": [
            "Total number of reviews:  7598\n",
            "Number of 5-star reviews:  2837\n",
            "Percentage of 5-star reviews:  37.3387733614109\n"
          ]
        }
      ]
    },
    {
      "cell_type": "code",
      "source": [
        "# Determine the total number of reviews, the number of 5-star reviews, \n",
        "# and the percentage of 5-star reviews for the review (unpaid).\n",
        "\n",
        "total_unpaid_review = unpaid_df.count()\n",
        "numb_unpaid_five_star = unpaid_df.filter(col(\"star_rating\")=='5').count()\n",
        "percent_unpaid_five_star = numb_unpaid_five_star / total_unpaid_review * 100\n",
        "\n",
        "print(\"Total number of reviews: \",total_unpaid_review)\n",
        "print(\"Number of 5-star reviews: \",numb_unpaid_five_star)\n",
        "print(\"Percentage of 5-star reviews: \",percent_unpaid_five_star)"
      ],
      "metadata": {
        "id": "azY3imKC9521",
        "colab": {
          "base_uri": "https://localhost:8080/"
        },
        "outputId": "7a245ec4-54f1-48d6-eb3d-7ad2d6249349"
      },
      "execution_count": null,
      "outputs": [
        {
          "output_type": "stream",
          "name": "stdout",
          "text": [
            "Total number of reviews:  1760004\n",
            "Number of 5-star reviews:  873722\n",
            "Percentage of 5-star reviews:  49.643182629130386\n"
          ]
        }
      ]
    },
    {
      "cell_type": "code",
      "source": [
        ""
      ],
      "metadata": {
        "id": "7OFtqqlItonE"
      },
      "execution_count": null,
      "outputs": []
    }
  ]
}